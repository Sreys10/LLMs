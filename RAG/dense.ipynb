{
 "cells": [
  {
   "cell_type": "markdown",
   "id": "846358d4",
   "metadata": {},
   "source": [
    "## Dense retrieval example"
   ]
  },
  {
   "cell_type": "markdown",
   "id": "d57d20a7",
   "metadata": {},
   "source": [
    " Let’s take a look at a dense retrieval example by using Cohere to search the\n",
    " Wikipedia page for the film Interstellar. In this example, we will do the\n",
    " following:\n",
    " 1. Get the text we want to make searchable and apply some light\n",
    " processing to chunk it into sentences.\n",
    " 2. Embed the sentences.\n",
    " 3. Build the search index.\n",
    " 4. Search and see the results."
   ]
  },
  {
   "cell_type": "code",
   "execution_count": 3,
   "id": "731e8520",
   "metadata": {},
   "outputs": [],
   "source": [
    "#import\n",
    "import numpy as np \n",
    "import cohere\n",
    "import pandas as pd \n",
    "from tqdm import tqdm "
   ]
  },
  {
   "cell_type": "code",
   "execution_count": 5,
   "id": "becb9b56",
   "metadata": {},
   "outputs": [],
   "source": [
    "api_key= '0IAnuUYnGXylLb1C288TXaWLDJiENP32RqGbB9U8'"
   ]
  },
  {
   "cell_type": "code",
   "execution_count": 8,
   "id": "694d4580",
   "metadata": {},
   "outputs": [],
   "source": [
    "#create and retrive a cohere api key from os.cohere.ai\n",
    "co= cohere.Client(api_key)"
   ]
  },
  {
   "cell_type": "markdown",
   "id": "253afe08",
   "metadata": {},
   "source": [
    "Getting the text archive and chunking it\n",
    "\n",
    "Let’s use the first section of the Wikipedia article on the film Interstellar.\n",
    "We’ll get the text, then break it into sentences:"
   ]
  },
  {
   "cell_type": "code",
   "execution_count": 9,
   "id": "0676b371",
   "metadata": {},
   "outputs": [],
   "source": [
    "text = \"\"\"\n",
    " Interstellar is a 2014 epic science fiction film co-written, \n",
    "directed, and produced by Christopher Nolan. \n",
    "It stars Matthew McConaughey, Anne Hathaway, Jessica Chastain, \n",
    "Bill Irwin, Ellen Burstyn, Matt Damon, and Michael Caine. \n",
    "Set in a dystopian future where humanity is struggling to \n",
    "survive, the film follows a group of astronauts who travel \n",
    "through a wormhole near Saturn in search of a new home for \n",
    "mankind.\n",
    " Brothers Christopher and Jonathan Nolan wrote the screenplay, \n",
    "which had its origins in a script Jonathan developed in 2007. \n",
    "Caltech theoretical physicist and 2017 Nobel laureate in \n",
    "Physics[4] Kip Thorne was an executive producer, acted as a \n",
    "scientific consultant, and wrote a tie-in book, The Science of \n",
    "Interstellar. \n",
    "Cinematographer Hoyte van Hoytema shot it on 35 mm movie film in \n",
    "the Panavision anamorphic format and IMAX 70 mm. \n",
    "Principal photography began in late 2013 and took place in \n",
    "Alberta, Iceland, and Los Angeles. \n",
    "Interstellar uses extensive practical and miniature effects and \n",
    "the company Double Negative created additional digital effects.\n",
    " Interstellar premiered on October 26, 2014, in Los Angeles. \n",
    "In the United States, it was first released on film stock, \n",
    "expanding to venues using digital projectors. \n",
    "The film had a worldwide gross over $677 million (and $773 \n",
    "million with subsequent re-releases), making it the tenth-highest \n",
    "grossing film of 2014. \n",
    "It received acclaim for its performances, direction, screenplay, \n",
    "musical score, visual effects, ambition, themes, and emotional \n",
    "weight. \n",
    "It has also received praise from many astronomers for its \n",
    "scientific accuracy and portrayal of theoretical astrophysics. \n",
    "Since its premiere, Interstellar gained a cult following,[5] and \n",
    "now is regarded by many sci-fi experts as one of the best \n",
    "science-fiction films of all time.\n",
    " Interstellar was nominated for five awards at the 87th Academy \n",
    "Awards, winning Best Visual Effects, and received numerous other \n",
    "accolades\"\"\""
   ]
  },
  {
   "cell_type": "code",
   "execution_count": 11,
   "id": "db95f06d",
   "metadata": {},
   "outputs": [],
   "source": [
    "#split into list of sentences\n",
    "texts= text.split('.')\n",
    "\n",
    "#clean up to remove emplty spaces\n",
    "texts= [t.strip('\\n') for t in texts]"
   ]
  },
  {
   "cell_type": "markdown",
   "id": "dc451d5b",
   "metadata": {},
   "source": [
    "Embedding the text chunks\n",
    "\n",
    "\n",
    " Let’s now embed the texts. We’ll send them to the Cohere API, and get back\n",
    " a vector for each text:"
   ]
  },
  {
   "cell_type": "code",
   "execution_count": 13,
   "id": "f661566a",
   "metadata": {},
   "outputs": [
    {
     "name": "stdout",
     "output_type": "stream",
     "text": [
      "(15, 4096)\n"
     ]
    }
   ],
   "source": [
    "#get the embeddings\n",
    "response= co.embed(\n",
    "    texts= texts, \n",
    "    input_type= 'search_document',\n",
    "\n",
    ").embeddings\n",
    "\n",
    "embeds= np.array(response)\n",
    "print(embeds.shape)"
   ]
  },
  {
   "cell_type": "markdown",
   "id": "ea2b3129",
   "metadata": {},
   "source": [
    "Building the search index\n",
    "\n",
    " Before we can search, we need to build a search index. An index stores the\n",
    " embeddings and is optimized to quickly retrieve the nearest neighbors even\n",
    " if we have a very large number of points:"
   ]
  },
  {
   "cell_type": "code",
   "execution_count": 14,
   "id": "a28142d6",
   "metadata": {},
   "outputs": [
    {
     "name": "stdout",
     "output_type": "stream",
     "text": [
      "True\n"
     ]
    }
   ],
   "source": [
    "import faiss\n",
    "dim=embeds.shape[1]\n",
    "index= faiss.IndexFlatL2(dim)\n",
    "print(index.is_trained)\n",
    "index.add(np.float32(embeds))\n"
   ]
  },
  {
   "cell_type": "markdown",
   "id": "275bf50d",
   "metadata": {},
   "source": [
    "Search the index\n",
    "\n",
    " We can now search the dataset using any query we want. We simply embed\n",
    " the query and present its embedding to the index, which will retrieve the\n",
    " most similar sentence from the Wikipedia article."
   ]
  },
  {
   "cell_type": "code",
   "execution_count": 17,
   "id": "ff5030d6",
   "metadata": {},
   "outputs": [],
   "source": [
    "#function for searching\n",
    "\n",
    "def search(query, number_of_results=5):\n",
    "\n",
    "    #get the query embeds\n",
    "    query_embed= co.embed(texts= [query], input_type='search_query').embeddings[0]\n",
    "\n",
    "    #retrieve the nearest neighbour\n",
    "    distnaces,similar_items_ids= index.search(np.float32([query_embed]), number_of_results)\n",
    "\n",
    "    #get the reseults\n",
    "    texts_np = np.array(texts)\n",
    "    results=pd.DataFrame(data= {'texts': texts_np[similar_items_ids[0]],\n",
    "                            'distances': distnaces[0]})\n",
    "    \n",
    "    #print nd return the results\n",
    "    print(f\"Query:'{query}' \\n Nerest Neighbours:\")\n",
    "    return results"
   ]
  },
  {
   "cell_type": "code",
   "execution_count": 21,
   "id": "24ffac66",
   "metadata": {},
   "outputs": [
    {
     "name": "stdout",
     "output_type": "stream",
     "text": [
      "Query:'how precise was the science' \n",
      " Nerest Neighbours:\n"
     ]
    },
    {
     "data": {
      "text/html": [
       "<div>\n",
       "<style scoped>\n",
       "    .dataframe tbody tr th:only-of-type {\n",
       "        vertical-align: middle;\n",
       "    }\n",
       "\n",
       "    .dataframe tbody tr th {\n",
       "        vertical-align: top;\n",
       "    }\n",
       "\n",
       "    .dataframe thead th {\n",
       "        text-align: right;\n",
       "    }\n",
       "</style>\n",
       "<table border=\"1\" class=\"dataframe\">\n",
       "  <thead>\n",
       "    <tr style=\"text-align: right;\">\n",
       "      <th></th>\n",
       "      <th>texts</th>\n",
       "      <th>distances</th>\n",
       "    </tr>\n",
       "  </thead>\n",
       "  <tbody>\n",
       "    <tr>\n",
       "      <th>0</th>\n",
       "      <td>\\nIt has also received praise from many astro...</td>\n",
       "      <td>10267.427734</td>\n",
       "    </tr>\n",
       "    <tr>\n",
       "      <th>1</th>\n",
       "      <td>\\nSince its premiere, Interstellar gained a c...</td>\n",
       "      <td>12490.473633</td>\n",
       "    </tr>\n",
       "    <tr>\n",
       "      <th>2</th>\n",
       "      <td>\\nCaltech theoretical physicist and 2017 Nobe...</td>\n",
       "      <td>12507.566406</td>\n",
       "    </tr>\n",
       "    <tr>\n",
       "      <th>3</th>\n",
       "      <td>\\nInterstellar uses extensive practical and m...</td>\n",
       "      <td>12546.205078</td>\n",
       "    </tr>\n",
       "    <tr>\n",
       "      <th>4</th>\n",
       "      <td>\\nCinematographer Hoyte van Hoytema shot it o...</td>\n",
       "      <td>13720.408203</td>\n",
       "    </tr>\n",
       "  </tbody>\n",
       "</table>\n",
       "</div>"
      ],
      "text/plain": [
       "                                               texts     distances\n",
       "0   \\nIt has also received praise from many astro...  10267.427734\n",
       "1   \\nSince its premiere, Interstellar gained a c...  12490.473633\n",
       "2   \\nCaltech theoretical physicist and 2017 Nobe...  12507.566406\n",
       "3   \\nInterstellar uses extensive practical and m...  12546.205078\n",
       "4   \\nCinematographer Hoyte van Hoytema shot it o...  13720.408203"
      ]
     },
     "execution_count": 21,
     "metadata": {},
     "output_type": "execute_result"
    }
   ],
   "source": [
    "#testing\n",
    "query =\"how precise was the science\"\n",
    "results= search(query)\n",
    "results "
   ]
  },
  {
   "cell_type": "code",
   "execution_count": null,
   "id": "4d5a4701",
   "metadata": {},
   "outputs": [],
   "source": []
  }
 ],
 "metadata": {
  "kernelspec": {
   "display_name": "Python 3",
   "language": "python",
   "name": "python3"
  },
  "language_info": {
   "codemirror_mode": {
    "name": "ipython",
    "version": 3
   },
   "file_extension": ".py",
   "mimetype": "text/x-python",
   "name": "python",
   "nbconvert_exporter": "python",
   "pygments_lexer": "ipython3",
   "version": "3.12.4"
  }
 },
 "nbformat": 4,
 "nbformat_minor": 5
}

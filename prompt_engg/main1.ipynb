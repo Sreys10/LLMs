{
 "cells": [
  {
   "cell_type": "markdown",
   "id": "26342243",
   "metadata": {},
   "source": [
    "PROMPT ENGG"
   ]
  },
  {
   "cell_type": "markdown",
   "id": "125d58ca",
   "metadata": {},
   "source": []
  },
  {
   "cell_type": "code",
   "execution_count": 1,
   "id": "19a89a7d",
   "metadata": {},
   "outputs": [],
   "source": [
    "#loading the model\n",
    "import torch\n",
    "from transformers import AutoTokenizer, AutoModelForCausalLM, pipeline"
   ]
  },
  {
   "cell_type": "code",
   "execution_count": 2,
   "id": "bff8786f",
   "metadata": {},
   "outputs": [
    {
     "name": "stderr",
     "output_type": "stream",
     "text": [
      "`flash-attention` package not found, consider installing for better performance: No module named 'flash_attn'.\n",
      "Current `flash-attention` does not support `window_size`. Either upgrade or use `attn_implementation='eager'`.\n"
     ]
    },
    {
     "data": {
      "application/vnd.jupyter.widget-view+json": {
       "model_id": "c4e2dcc3668b432196968dbe70a5f6fb",
       "version_major": 2,
       "version_minor": 0
      },
      "text/plain": [
       "Loading checkpoint shards:   0%|          | 0/2 [00:00<?, ?it/s]"
      ]
     },
     "metadata": {},
     "output_type": "display_data"
    }
   ],
   "source": [
    "#load model and tokenizer\n",
    "model = AutoModelForCausalLM.from_pretrained(\n",
    "    \"microsoft/Phi-3-mini-4k-instruct\",\n",
    "    device_map=\"cuda\",\n",
    "    torch_dtype=\"auto\",\n",
    "    trust_remote_code=True,\n",
    " \n",
    " )\n",
    "\n",
    "tokenizer=AutoTokenizer.from_pretrained(\"microsoft/Phi-3-mini-4k-instruct\")"
   ]
  },
  {
   "cell_type": "code",
   "execution_count": 3,
   "id": "02357382",
   "metadata": {},
   "outputs": [],
   "source": [
    "#create a pipline\n",
    "\n",
    "pipe=pipeline(\n",
    "    \"text-generation\",\n",
    "    model=model,\n",
    "    tokenizer=tokenizer,\n",
    "    return_full_text=False,\n",
    "    max_new_tokens=500,\n",
    "    do_sample=False, #this tells no sampling will be done and the model will always return the most likely token\n",
    "\n",
    ")\n",
    "\n",
    "\n",
    "messages = [\n",
    " {\"role\": \"user\", \"content\": \"Create a funny joke about chickens.\"}\n",
    " ]"
   ]
  },
  {
   "cell_type": "code",
   "execution_count": 4,
   "id": "f461dc04",
   "metadata": {},
   "outputs": [
    {
     "name": "stderr",
     "output_type": "stream",
     "text": [
      "The `seen_tokens` attribute is deprecated and will be removed in v4.41. Use the `cache_position` model input instead.\n",
      "You are not running the flash-attention implementation, expect numerical differences.\n"
     ]
    },
    {
     "name": "stdout",
     "output_type": "stream",
     "text": [
      " Why did the chicken join the band? Because it had the drumsticks!\n"
     ]
    }
   ],
   "source": [
    " # Generate the output\n",
    "output = pipe(messages)\n",
    "print(output[0][\"generated_text\"])"
   ]
  },
  {
   "cell_type": "markdown",
   "id": "269b7237",
   "metadata": {},
   "source": [
    "temperature controls the randmness of the output. A lower temperature (e.g., 0.2) makes the model more deterministic, while a higher temperature (e.g., 0.8) makes it more random.\n"
   ]
  },
  {
   "cell_type": "code",
   "execution_count": 5,
   "id": "41854c60",
   "metadata": {},
   "outputs": [
    {
     "name": "stdout",
     "output_type": "stream",
     "text": [
      " Why did the chicken join a band? Because it wanted to beat its eggs up while playing!\n"
     ]
    }
   ],
   "source": [
    "output = pipe(messages, do_sample=True, temperature=1)\n",
    "print(output[0][\"generated_text\"])"
   ]
  },
  {
   "cell_type": "markdown",
   "id": "5eda12a9",
   "metadata": {},
   "source": [
    "## top_p\n",
    " top_p, also known as nucleus sampling, is a sampling technique that controls which subset of tokens (the nucleus) the LLM can consider.It will consider tokens until it reaches their cumulative probability. If we set top_p to 0.1, it will consider tokens until it reaches that value. If we set top_p to 1, it will consider all tokens.\n",
    "\n",
    "\n",
    " >A higher top_p increases the number of tokens that can be selected to generate and vice\n",
    " versa."
   ]
  },
  {
   "cell_type": "code",
   "execution_count": 6,
   "id": "7e3a546e",
   "metadata": {},
   "outputs": [
    {
     "name": "stdout",
     "output_type": "stream",
     "text": [
      " Why did the chicken join the police force? Because it wanted to roost in their ranks!\n"
     ]
    }
   ],
   "source": [
    "#usinf a high top_p\n",
    "output= pipe(messages, do_sample=True, top_p= 1)\n",
    "print(output[0][\"generated_text\"])"
   ]
  },
  {
   "cell_type": "code",
   "execution_count": null,
   "id": "5562997d",
   "metadata": {},
   "outputs": [],
   "source": []
  }
 ],
 "metadata": {
  "kernelspec": {
   "display_name": "Python 3",
   "language": "python",
   "name": "python3"
  },
  "language_info": {
   "codemirror_mode": {
    "name": "ipython",
    "version": 3
   },
   "file_extension": ".py",
   "mimetype": "text/x-python",
   "name": "python",
   "nbconvert_exporter": "python",
   "pygments_lexer": "ipython3",
   "version": "3.12.4"
  }
 },
 "nbformat": 4,
 "nbformat_minor": 5
}

{
  "cells": [
    {
      "cell_type": "markdown",
      "id": "500b7a31",
      "metadata": {
        "id": "500b7a31"
      },
      "source": [
        "# Embedding Models"
      ]
    },
    {
      "cell_type": "code",
      "execution_count": 1,
      "id": "228091cc",
      "metadata": {
        "colab": {
          "base_uri": "https://localhost:8080/",
          "height": 49,
          "referenced_widgets": [
            "827045d5bbc24022988b152f0b11ca04",
            "13d7af5861234657bd2b88e973caab8c",
            "4956d4e3f10e4b068d00ab4c0ca8829b",
            "1855b990ce8e4971be4631c0d131ce7d",
            "4286dd0ba6ff4429a5173d209753a734",
            "112d5db2d5bb4c8e972e269ad2b50cb7",
            "6e4c7208b377495f8fbd753275dac4dc",
            "e91d4b238a074f2baf160fc636cc84a9",
            "942e0267e9e8439496f5a7eb2deb6622",
            "f6f0b6e8fcfa4545addf5bce6ed671c7",
            "c0857116319e46a8964642ddf5a8301b"
          ]
        },
        "id": "228091cc",
        "outputId": "e7f75c1c-ed4c-46ed-e691-da4095645100"
      },
      "outputs": [
        {
          "data": {
            "application/vnd.jupyter.widget-view+json": {
              "model_id": "827045d5bbc24022988b152f0b11ca04",
              "version_major": 2,
              "version_minor": 0
            },
            "text/plain": [
              "Downloading readme:   0%|          | 0.00/35.3k [00:00<?, ?B/s]"
            ]
          },
          "metadata": {},
          "output_type": "display_data"
        }
      ],
      "source": [
        "from datasets import load_dataset\n",
        "\n",
        "#load MNLI Dataset from Glue\n",
        "# 0- entailment, 1- contradiction, 2- neutral\n",
        "\n",
        "train_dataset= load_dataset(\"glue\", \"mnli\", split=\"train\").select(range(50000))\n",
        "\n",
        "train_dataset = train_dataset.remove_columns(\"idx\")"
      ]
    },
    {
      "cell_type": "code",
      "execution_count": 2,
      "id": "27e5e282",
      "metadata": {
        "colab": {
          "base_uri": "https://localhost:8080/"
        },
        "id": "27e5e282",
        "outputId": "71d15165-c1ec-4d07-cca4-d07ceb4ba0ee"
      },
      "outputs": [
        {
          "data": {
            "text/plain": [
              "{'premise': \"and it's it's quite a bit i think six something is the state and and uh the rest of the pie goes elsewhere but we're in a particular part of the state that's pretty well off so it's it's like we get a lot of that back as far as local taxation goes\",\n",
              " 'hypothesis': 'I do not know exactly where the local taxes go.',\n",
              " 'label': 1}"
            ]
          },
          "execution_count": 2,
          "metadata": {},
          "output_type": "execute_result"
        }
      ],
      "source": [
        "train_dataset[25]"
      ]
    },
    {
      "cell_type": "markdown",
      "id": "e4252206",
      "metadata": {
        "id": "e4252206"
      },
      "source": [
        "### train model\n",
        "\n",
        "Now that we have our dataset with training examples, we will need to\n",
        " create our embedding model. We typically choose an existing sentence\n",
        "transformers model and fine-tune that model, but in this example, we\n",
        " are going to train an embedding from scratch.\n",
        " This means that we will have to define two things. First, a pretrained\n",
        " Transformer model that serves as embedding individual words. We will use\n",
        " the BERT base model (uncased) as it is a great introduction model.\n",
        " However, many others exist that also have been evaluated using\n",
        " sentence-transformers. Most notably, microsoft/mpnet\n",
        "base often gives good results when used as a word embedding model."
      ]
    },
    {
      "cell_type": "code",
      "execution_count": 3,
      "id": "7b04e79f",
      "metadata": {
        "colab": {
          "base_uri": "https://localhost:8080/"
        },
        "id": "7b04e79f",
        "outputId": "db6a2cbd-2d63-4857-83bd-6d6a9d653080"
      },
      "outputs": [
        {
          "name": "stderr",
          "output_type": "stream",
          "text": [
            "WARNING:sentence_transformers.SentenceTransformer:No sentence-transformers model found with name bert-base-uncased. Creating a new one with mean pooling.\n"
          ]
        }
      ],
      "source": [
        "from sentence_transformers import SentenceTransformer\n",
        "#use a base model\n",
        "embedding_model = SentenceTransformer('bert-base-uncased')\n"
      ]
    },
    {
      "cell_type": "code",
      "execution_count": 4,
      "id": "52aeb1eb",
      "metadata": {
        "id": "52aeb1eb"
      },
      "outputs": [],
      "source": [
        "\n",
        "from sentence_transformers import losses\n",
        "\n",
        "train_loss= losses.SoftmaxLoss(\n",
        "    model=embedding_model,\n",
        "\n",
        "    sentence_embedding_dimension= embedding_model.get_sentence_embedding_dimension(),\n",
        "    num_labels= 3 # 0- entailment, 1- contradiction, 2- neutral\n",
        ")"
      ]
    },
    {
      "cell_type": "code",
      "execution_count": 5,
      "id": "46b21c14",
      "metadata": {
        "id": "46b21c14"
      },
      "outputs": [],
      "source": [
        "#for evaluation we will use Semantic Textual Similarity Benchmark (STSB)\n",
        "\n",
        "from sentence_transformers.evaluation import EmbeddingSimilarityEvaluator\n",
        "\n",
        "#create an embedding similarity evaluator for STSB\n",
        "\n",
        "val_sts= load_dataset(\"glue\", \"stsb\", split=\"validation\")\n",
        "\n",
        "evaluator= EmbeddingSimilarityEvaluator(\n",
        "    sentences1= val_sts[\"sentence1\"],\n",
        "    sentences2= val_sts[\"sentence2\"],\n",
        "    scores=[score/5 for score in val_sts[\"label\"]],\n",
        "    main_similarity= \"cosine\",\n",
        ")"
      ]
    },
    {
      "cell_type": "code",
      "execution_count": 6,
      "id": "d42904a8",
      "metadata": {
        "id": "d42904a8"
      },
      "outputs": [],
      "source": [
        "from sentence_transformers.training_args import SentenceTransformerTrainingArguments\n",
        "\n",
        "#define the training args\n",
        "\n",
        "args= SentenceTransformerTrainingArguments(\n",
        "    output_dir=\"base_embedding_model\",\n",
        "    num_train_epochs= 1,\n",
        "    per_device_eval_batch_size=32,\n",
        "    per_gpu_eval_batch_size=32,\n",
        "    warmup_steps= 100,\n",
        "    fp16=True,\n",
        "    logging_steps= 100,\n",
        "    eval_steps= 100\n",
        ")\n"
      ]
    },
    {
      "cell_type": "code",
      "execution_count": 7,
      "id": "023131e1",
      "metadata": {
        "id": "023131e1"
      },
      "outputs": [],
      "source": [
        "from sentence_transformers.training_args import SentenceTransformerTrainingArguments\n",
        "\n",
        "#define the training args\n",
        "\n",
        "args= SentenceTransformerTrainingArguments(\n",
        "    output_dir=\"base_embedding_model\",\n",
        "    num_train_epochs= 1,\n",
        "    per_device_eval_batch_size=32,\n",
        "    per_gpu_eval_batch_size=32,\n",
        "    warmup_steps= 100,\n",
        "    fp16=True,\n",
        "    logging_steps= 100,\n",
        "    eval_steps= 100,\n",
        "    report_to=\"none\" # Disable WandB integration\n",
        ")"
      ]
    },
    {
      "cell_type": "code",
      "execution_count": 8,
      "id": "f5dde1af",
      "metadata": {
        "colab": {
          "base_uri": "https://localhost:8080/"
        },
        "id": "f5dde1af",
        "outputId": "80c62e27-2ffd-41f7-e39f-6e6fad50bc1b"
      },
      "outputs": [
        {
          "data": {
            "text/plain": [
              "{'pearson_cosine': np.float64(0.5917194487413572),\n",
              " 'spearman_cosine': np.float64(0.5931742011707938)}"
            ]
          },
          "execution_count": 8,
          "metadata": {},
          "output_type": "execute_result"
        }
      ],
      "source": [
        "evaluator(embedding_model)"
      ]
    },
    {
      "cell_type": "code",
      "execution_count": 12,
      "id": "2d9de05b",
      "metadata": {
        "colab": {
          "base_uri": "https://localhost:8080/",
          "height": 153
        },
        "id": "2d9de05b",
        "outputId": "06062246-98a8-43ff-b81e-b028dd8adc39"
      },
      "outputs": [
        {
          "name": "stderr",
          "output_type": "stream",
          "text": [
            "/usr/local/lib/python3.11/dist-packages/mteb/evaluation/MTEB.py:120: UserWarning: Passing task names as strings is deprecated and will be removed in 2.0 release. Please use `tasks = mteb.get_tasks(tasks=[...])` method to get tasks instead.\n",
            "  warnings.warn(\n"
          ]
        },
        {
          "data": {
            "text/html": [
              "<pre style=\"white-space:pre;overflow-x:auto;line-height:normal;font-family:Menlo,'DejaVu Sans Mono',consolas,'Courier New',monospace\"><span style=\"color: #262626; text-decoration-color: #262626\">───────────────────────────────────────────────── </span><span style=\"font-weight: bold\">Selected tasks </span><span style=\"color: #262626; text-decoration-color: #262626\"> ─────────────────────────────────────────────────</span>\n",
              "</pre>\n"
            ],
            "text/plain": [
              "\u001b[38;5;235m───────────────────────────────────────────────── \u001b[0m\u001b[1mSelected tasks \u001b[0m\u001b[38;5;235m ─────────────────────────────────────────────────\u001b[0m\n"
            ]
          },
          "metadata": {},
          "output_type": "display_data"
        },
        {
          "data": {
            "text/html": [
              "<pre style=\"white-space:pre;overflow-x:auto;line-height:normal;font-family:Menlo,'DejaVu Sans Mono',consolas,'Courier New',monospace\"><span style=\"font-weight: bold\">Classification</span>\n",
              "</pre>\n"
            ],
            "text/plain": [
              "\u001b[1mClassification\u001b[0m\n"
            ]
          },
          "metadata": {},
          "output_type": "display_data"
        },
        {
          "data": {
            "text/html": [
              "<pre style=\"white-space:pre;overflow-x:auto;line-height:normal;font-family:Menlo,'DejaVu Sans Mono',consolas,'Courier New',monospace\">    - Banking77Classification, <span style=\"color: #626262; text-decoration-color: #626262; font-style: italic\">s2s</span>\n",
              "</pre>\n"
            ],
            "text/plain": [
              "    - Banking77Classification, \u001b[3;38;5;241ms2s\u001b[0m\n"
            ]
          },
          "metadata": {},
          "output_type": "display_data"
        },
        {
          "data": {
            "text/html": [
              "<pre style=\"white-space:pre;overflow-x:auto;line-height:normal;font-family:Menlo,'DejaVu Sans Mono',consolas,'Courier New',monospace\">\n",
              "\n",
              "</pre>\n"
            ],
            "text/plain": [
              "\n",
              "\n"
            ]
          },
          "metadata": {},
          "output_type": "display_data"
        },
        {
          "data": {
            "text/plain": [
              "[TaskResult(task_name=Banking77Classification, scores=...)]"
            ]
          },
          "execution_count": 12,
          "metadata": {},
          "output_type": "execute_result"
        }
      ],
      "source": [
        "#we will use another benchmark here mteb(massive text embedding benchmark)\n",
        "\n",
        "from mteb import MTEB\n",
        "#choose evaluation task\n",
        "\n",
        "evaluation=MTEB(tasks= [\"Banking77Classification\"])\n",
        "\n",
        "#results\n",
        "evaluation.run(embedding_model)"
      ]
    },
    {
      "cell_type": "markdown",
      "id": "VCRAYiVw5JRE",
      "metadata": {
        "id": "VCRAYiVw5JRE"
      },
      "source": [
        "\n"
      ]
    },
    {
      "cell_type": "markdown",
      "id": "1kRMIPMP5VRK",
      "metadata": {
        "id": "1kRMIPMP5VRK"
      },
      "source": []
    },
    {
      "cell_type": "code",
      "execution_count": null,
      "id": "7e_Li75D5sWU",
      "metadata": {
        "id": "7e_Li75D5sWU"
      },
      "outputs": [],
      "source": []
    }
  ],
  "metadata": {
    "accelerator": "GPU",
    "colab": {
      "gpuType": "T4",
      "provenance": []
    },
    "kernelspec": {
      "display_name": "Python 3",
      "name": "python3"
    },
    "language_info": {
      "codemirror_mode": {
        "name": "ipython",
        "version": 3
      },
      "file_extension": ".py",
      "mimetype": "text/x-python",
      "name": "python",
      "nbconvert_exporter": "python",
      "pygments_lexer": "ipython3",
      "version": "3.12.4"
    },
    "widgets": {
      "application/vnd.jupyter.widget-state+json": {
        "112d5db2d5bb4c8e972e269ad2b50cb7": {
          "model_module": "@jupyter-widgets/base",
          "model_module_version": "1.2.0",
          "model_name": "LayoutModel",
          "state": {
            "_model_module": "@jupyter-widgets/base",
            "_model_module_version": "1.2.0",
            "_model_name": "LayoutModel",
            "_view_count": null,
            "_view_module": "@jupyter-widgets/base",
            "_view_module_version": "1.2.0",
            "_view_name": "LayoutView",
            "align_content": null,
            "align_items": null,
            "align_self": null,
            "border": null,
            "bottom": null,
            "display": null,
            "flex": null,
            "flex_flow": null,
            "grid_area": null,
            "grid_auto_columns": null,
            "grid_auto_flow": null,
            "grid_auto_rows": null,
            "grid_column": null,
            "grid_gap": null,
            "grid_row": null,
            "grid_template_areas": null,
            "grid_template_columns": null,
            "grid_template_rows": null,
            "height": null,
            "justify_content": null,
            "justify_items": null,
            "left": null,
            "margin": null,
            "max_height": null,
            "max_width": null,
            "min_height": null,
            "min_width": null,
            "object_fit": null,
            "object_position": null,
            "order": null,
            "overflow": null,
            "overflow_x": null,
            "overflow_y": null,
            "padding": null,
            "right": null,
            "top": null,
            "visibility": null,
            "width": null
          }
        },
        "13d7af5861234657bd2b88e973caab8c": {
          "model_module": "@jupyter-widgets/controls",
          "model_module_version": "1.5.0",
          "model_name": "HTMLModel",
          "state": {
            "_dom_classes": [],
            "_model_module": "@jupyter-widgets/controls",
            "_model_module_version": "1.5.0",
            "_model_name": "HTMLModel",
            "_view_count": null,
            "_view_module": "@jupyter-widgets/controls",
            "_view_module_version": "1.5.0",
            "_view_name": "HTMLView",
            "description": "",
            "description_tooltip": null,
            "layout": "IPY_MODEL_112d5db2d5bb4c8e972e269ad2b50cb7",
            "placeholder": "​",
            "style": "IPY_MODEL_6e4c7208b377495f8fbd753275dac4dc",
            "value": "Downloading readme: 100%"
          }
        },
        "1855b990ce8e4971be4631c0d131ce7d": {
          "model_module": "@jupyter-widgets/controls",
          "model_module_version": "1.5.0",
          "model_name": "HTMLModel",
          "state": {
            "_dom_classes": [],
            "_model_module": "@jupyter-widgets/controls",
            "_model_module_version": "1.5.0",
            "_model_name": "HTMLModel",
            "_view_count": null,
            "_view_module": "@jupyter-widgets/controls",
            "_view_module_version": "1.5.0",
            "_view_name": "HTMLView",
            "description": "",
            "description_tooltip": null,
            "layout": "IPY_MODEL_f6f0b6e8fcfa4545addf5bce6ed671c7",
            "placeholder": "​",
            "style": "IPY_MODEL_c0857116319e46a8964642ddf5a8301b",
            "value": " 35.3k/35.3k [00:00&lt;00:00, 70.8kB/s]"
          }
        },
        "4286dd0ba6ff4429a5173d209753a734": {
          "model_module": "@jupyter-widgets/base",
          "model_module_version": "1.2.0",
          "model_name": "LayoutModel",
          "state": {
            "_model_module": "@jupyter-widgets/base",
            "_model_module_version": "1.2.0",
            "_model_name": "LayoutModel",
            "_view_count": null,
            "_view_module": "@jupyter-widgets/base",
            "_view_module_version": "1.2.0",
            "_view_name": "LayoutView",
            "align_content": null,
            "align_items": null,
            "align_self": null,
            "border": null,
            "bottom": null,
            "display": null,
            "flex": null,
            "flex_flow": null,
            "grid_area": null,
            "grid_auto_columns": null,
            "grid_auto_flow": null,
            "grid_auto_rows": null,
            "grid_column": null,
            "grid_gap": null,
            "grid_row": null,
            "grid_template_areas": null,
            "grid_template_columns": null,
            "grid_template_rows": null,
            "height": null,
            "justify_content": null,
            "justify_items": null,
            "left": null,
            "margin": null,
            "max_height": null,
            "max_width": null,
            "min_height": null,
            "min_width": null,
            "object_fit": null,
            "object_position": null,
            "order": null,
            "overflow": null,
            "overflow_x": null,
            "overflow_y": null,
            "padding": null,
            "right": null,
            "top": null,
            "visibility": null,
            "width": null
          }
        },
        "4956d4e3f10e4b068d00ab4c0ca8829b": {
          "model_module": "@jupyter-widgets/controls",
          "model_module_version": "1.5.0",
          "model_name": "FloatProgressModel",
          "state": {
            "_dom_classes": [],
            "_model_module": "@jupyter-widgets/controls",
            "_model_module_version": "1.5.0",
            "_model_name": "FloatProgressModel",
            "_view_count": null,
            "_view_module": "@jupyter-widgets/controls",
            "_view_module_version": "1.5.0",
            "_view_name": "ProgressView",
            "bar_style": "success",
            "description": "",
            "description_tooltip": null,
            "layout": "IPY_MODEL_e91d4b238a074f2baf160fc636cc84a9",
            "max": 35296,
            "min": 0,
            "orientation": "horizontal",
            "style": "IPY_MODEL_942e0267e9e8439496f5a7eb2deb6622",
            "value": 35296
          }
        },
        "6e4c7208b377495f8fbd753275dac4dc": {
          "model_module": "@jupyter-widgets/controls",
          "model_module_version": "1.5.0",
          "model_name": "DescriptionStyleModel",
          "state": {
            "_model_module": "@jupyter-widgets/controls",
            "_model_module_version": "1.5.0",
            "_model_name": "DescriptionStyleModel",
            "_view_count": null,
            "_view_module": "@jupyter-widgets/base",
            "_view_module_version": "1.2.0",
            "_view_name": "StyleView",
            "description_width": ""
          }
        },
        "827045d5bbc24022988b152f0b11ca04": {
          "model_module": "@jupyter-widgets/controls",
          "model_module_version": "1.5.0",
          "model_name": "HBoxModel",
          "state": {
            "_dom_classes": [],
            "_model_module": "@jupyter-widgets/controls",
            "_model_module_version": "1.5.0",
            "_model_name": "HBoxModel",
            "_view_count": null,
            "_view_module": "@jupyter-widgets/controls",
            "_view_module_version": "1.5.0",
            "_view_name": "HBoxView",
            "box_style": "",
            "children": [
              "IPY_MODEL_13d7af5861234657bd2b88e973caab8c",
              "IPY_MODEL_4956d4e3f10e4b068d00ab4c0ca8829b",
              "IPY_MODEL_1855b990ce8e4971be4631c0d131ce7d"
            ],
            "layout": "IPY_MODEL_4286dd0ba6ff4429a5173d209753a734"
          }
        },
        "942e0267e9e8439496f5a7eb2deb6622": {
          "model_module": "@jupyter-widgets/controls",
          "model_module_version": "1.5.0",
          "model_name": "ProgressStyleModel",
          "state": {
            "_model_module": "@jupyter-widgets/controls",
            "_model_module_version": "1.5.0",
            "_model_name": "ProgressStyleModel",
            "_view_count": null,
            "_view_module": "@jupyter-widgets/base",
            "_view_module_version": "1.2.0",
            "_view_name": "StyleView",
            "bar_color": null,
            "description_width": ""
          }
        },
        "c0857116319e46a8964642ddf5a8301b": {
          "model_module": "@jupyter-widgets/controls",
          "model_module_version": "1.5.0",
          "model_name": "DescriptionStyleModel",
          "state": {
            "_model_module": "@jupyter-widgets/controls",
            "_model_module_version": "1.5.0",
            "_model_name": "DescriptionStyleModel",
            "_view_count": null,
            "_view_module": "@jupyter-widgets/base",
            "_view_module_version": "1.2.0",
            "_view_name": "StyleView",
            "description_width": ""
          }
        },
        "e91d4b238a074f2baf160fc636cc84a9": {
          "model_module": "@jupyter-widgets/base",
          "model_module_version": "1.2.0",
          "model_name": "LayoutModel",
          "state": {
            "_model_module": "@jupyter-widgets/base",
            "_model_module_version": "1.2.0",
            "_model_name": "LayoutModel",
            "_view_count": null,
            "_view_module": "@jupyter-widgets/base",
            "_view_module_version": "1.2.0",
            "_view_name": "LayoutView",
            "align_content": null,
            "align_items": null,
            "align_self": null,
            "border": null,
            "bottom": null,
            "display": null,
            "flex": null,
            "flex_flow": null,
            "grid_area": null,
            "grid_auto_columns": null,
            "grid_auto_flow": null,
            "grid_auto_rows": null,
            "grid_column": null,
            "grid_gap": null,
            "grid_row": null,
            "grid_template_areas": null,
            "grid_template_columns": null,
            "grid_template_rows": null,
            "height": null,
            "justify_content": null,
            "justify_items": null,
            "left": null,
            "margin": null,
            "max_height": null,
            "max_width": null,
            "min_height": null,
            "min_width": null,
            "object_fit": null,
            "object_position": null,
            "order": null,
            "overflow": null,
            "overflow_x": null,
            "overflow_y": null,
            "padding": null,
            "right": null,
            "top": null,
            "visibility": null,
            "width": null
          }
        },
        "f6f0b6e8fcfa4545addf5bce6ed671c7": {
          "model_module": "@jupyter-widgets/base",
          "model_module_version": "1.2.0",
          "model_name": "LayoutModel",
          "state": {
            "_model_module": "@jupyter-widgets/base",
            "_model_module_version": "1.2.0",
            "_model_name": "LayoutModel",
            "_view_count": null,
            "_view_module": "@jupyter-widgets/base",
            "_view_module_version": "1.2.0",
            "_view_name": "LayoutView",
            "align_content": null,
            "align_items": null,
            "align_self": null,
            "border": null,
            "bottom": null,
            "display": null,
            "flex": null,
            "flex_flow": null,
            "grid_area": null,
            "grid_auto_columns": null,
            "grid_auto_flow": null,
            "grid_auto_rows": null,
            "grid_column": null,
            "grid_gap": null,
            "grid_row": null,
            "grid_template_areas": null,
            "grid_template_columns": null,
            "grid_template_rows": null,
            "height": null,
            "justify_content": null,
            "justify_items": null,
            "left": null,
            "margin": null,
            "max_height": null,
            "max_width": null,
            "min_height": null,
            "min_width": null,
            "object_fit": null,
            "object_position": null,
            "order": null,
            "overflow": null,
            "overflow_x": null,
            "overflow_y": null,
            "padding": null,
            "right": null,
            "top": null,
            "visibility": null,
            "width": null
          }
        }
      }
    }
  },
  "nbformat": 4,
  "nbformat_minor": 5
}

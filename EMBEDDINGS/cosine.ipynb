{
 "cells": [
  {
   "cell_type": "markdown",
   "id": "f62938e6",
   "metadata": {},
   "source": [
    "## Loss functions\n",
    "Instead of going through every single loss function out there, there are two\n",
    "loss functions that are typically used and seem to perform generally well,\n",
    "namely:\n",
    "\n",
    " Cosine similarity\n",
    " \n",
    " Multiple negatives ranking (MNR) loss"
   ]
  },
  {
   "cell_type": "markdown",
   "id": "fb8770cd",
   "metadata": {},
   "source": [
    "#### Cosine Similarity\n",
    "\n",
    "The cosine similarity loss is an intuitive and easy-to-use loss that works\n",
    " across many different use cases and datasets. It is typically used in semantic\n",
    " textual similarity tasks. In these tasks, a similarity score is assigned to the\n",
    " pairs of texts over which we optimize the model.\n",
    "\n",
    " Instead of having strictly positive or negative pairs of sentences, we assume\n",
    " pairs of sentences that are similar or dissimilar to a certain degree."
   ]
  },
  {
   "cell_type": "code",
   "execution_count": null,
   "id": "903bd990",
   "metadata": {},
   "outputs": [],
   "source": [
    "#to use cosine similarity we need to convert the three labels to 2\n",
    "\n",
    "#1- entailment, 0- neutral and contradiction\n",
    "\n",
    "from datasets import Dataset, load_dataset\n",
    "\n",
    "#load "
   ]
  },
  {
   "cell_type": "code",
   "execution_count": null,
   "id": "3316df28",
   "metadata": {},
   "outputs": [],
   "source": []
  }
 ],
 "metadata": {
  "kernelspec": {
   "display_name": "Python 3",
   "language": "python",
   "name": "python3"
  },
  "language_info": {
   "name": "python",
   "version": "3.12.4"
  }
 },
 "nbformat": 4,
 "nbformat_minor": 5
}
